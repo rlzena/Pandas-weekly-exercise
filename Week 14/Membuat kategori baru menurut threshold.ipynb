{
 "cells": [
  {
   "cell_type": "markdown",
   "id": "d2ee358a-003e-43a0-842c-d1b8afe17784",
   "metadata": {
    "tags": []
   },
   "source": [
    "Membuat kategori baru menurut threshold\n",
    "\n",
    "Link youtube : https://www.youtube.com/watch?v=Plzo77JaESI&authuser=0"
   ]
  },
  {
   "cell_type": "code",
   "execution_count": 2,
   "id": "cf8d0050-1c4e-453f-bdb0-ae9f6dd376b0",
   "metadata": {
    "tags": []
   },
   "outputs": [
    {
     "name": "stdout",
     "output_type": "stream",
     "text": [
      "2.0.3\n"
     ]
    }
   ],
   "source": [
    "import pandas as pd\n",
    "\n",
    "print(pd.__version__)"
   ]
  },
  {
   "cell_type": "code",
   "execution_count": 4,
   "id": "2d625edd-93fa-4a68-b568-bb931a31b074",
   "metadata": {
    "tags": []
   },
   "outputs": [
    {
     "data": {
      "text/html": [
       "<div>\n",
       "<style scoped>\n",
       "    .dataframe tbody tr th:only-of-type {\n",
       "        vertical-align: middle;\n",
       "    }\n",
       "\n",
       "    .dataframe tbody tr th {\n",
       "        vertical-align: top;\n",
       "    }\n",
       "\n",
       "    .dataframe thead th {\n",
       "        text-align: right;\n",
       "    }\n",
       "</style>\n",
       "<table border=\"1\" class=\"dataframe\">\n",
       "  <thead>\n",
       "    <tr style=\"text-align: right;\">\n",
       "      <th></th>\n",
       "      <th>hobi</th>\n",
       "    </tr>\n",
       "  </thead>\n",
       "  <tbody>\n",
       "    <tr>\n",
       "      <th>0</th>\n",
       "      <td>jogging</td>\n",
       "    </tr>\n",
       "    <tr>\n",
       "      <th>1</th>\n",
       "      <td>mancing</td>\n",
       "    </tr>\n",
       "    <tr>\n",
       "      <th>2</th>\n",
       "      <td>renang</td>\n",
       "    </tr>\n",
       "    <tr>\n",
       "      <th>3</th>\n",
       "      <td>mancing</td>\n",
       "    </tr>\n",
       "    <tr>\n",
       "      <th>4</th>\n",
       "      <td>mancing</td>\n",
       "    </tr>\n",
       "    <tr>\n",
       "      <th>5</th>\n",
       "      <td>baca</td>\n",
       "    </tr>\n",
       "    <tr>\n",
       "      <th>6</th>\n",
       "      <td>baca</td>\n",
       "    </tr>\n",
       "    <tr>\n",
       "      <th>7</th>\n",
       "      <td>mancing</td>\n",
       "    </tr>\n",
       "    <tr>\n",
       "      <th>8</th>\n",
       "      <td>fotograsi</td>\n",
       "    </tr>\n",
       "    <tr>\n",
       "      <th>9</th>\n",
       "      <td>mancing</td>\n",
       "    </tr>\n",
       "    <tr>\n",
       "      <th>10</th>\n",
       "      <td>camping</td>\n",
       "    </tr>\n",
       "  </tbody>\n",
       "</table>\n",
       "</div>"
      ],
      "text/plain": [
       "         hobi\n",
       "0     jogging\n",
       "1     mancing\n",
       "2      renang\n",
       "3     mancing\n",
       "4     mancing\n",
       "5        baca\n",
       "6        baca\n",
       "7     mancing\n",
       "8   fotograsi\n",
       "9     mancing\n",
       "10    camping"
      ]
     },
     "execution_count": 4,
     "metadata": {},
     "output_type": "execute_result"
    }
   ],
   "source": [
    "d = {'hobi' :['jogging', 'mancing', 'renang',\n",
    "              'mancing', 'mancing', 'baca',\n",
    "              'baca', 'mancing', 'fotograsi',\n",
    "              'mancing', 'camping']}\n",
    "\n",
    "df = pd.DataFrame(d)\n",
    "df"
   ]
  },
  {
   "cell_type": "code",
   "execution_count": 5,
   "id": "13f16b61-018b-4968-9825-fb2aa6cb0f3e",
   "metadata": {
    "tags": []
   },
   "outputs": [
    {
     "data": {
      "text/plain": [
       "hobi\n",
       "mancing      5\n",
       "baca         2\n",
       "jogging      1\n",
       "renang       1\n",
       "fotograsi    1\n",
       "camping      1\n",
       "Name: count, dtype: int64"
      ]
     },
     "execution_count": 5,
     "metadata": {},
     "output_type": "execute_result"
    }
   ],
   "source": [
    "df['hobi'].value_counts()"
   ]
  },
  {
   "cell_type": "code",
   "execution_count": 6,
   "id": "8d42ed46-2689-4283-8ffb-0fb33d1a060d",
   "metadata": {
    "tags": []
   },
   "outputs": [
    {
     "data": {
      "text/plain": [
       "hobi\n",
       "mancing      0.454545\n",
       "baca         0.181818\n",
       "jogging      0.090909\n",
       "renang       0.090909\n",
       "fotograsi    0.090909\n",
       "camping      0.090909\n",
       "Name: proportion, dtype: float64"
      ]
     },
     "execution_count": 6,
     "metadata": {},
     "output_type": "execute_result"
    }
   ],
   "source": [
    "persentase = df['hobi'].value_counts(normalize=True)\n",
    "persentase"
   ]
  },
  {
   "cell_type": "code",
   "execution_count": 8,
   "id": "03d2ab86-e196-4f2e-93ef-6fa83bbe42ca",
   "metadata": {
    "tags": []
   },
   "outputs": [
    {
     "data": {
      "text/plain": [
       "Index(['jogging', 'renang', 'fotograsi', 'camping'], dtype='object', name='hobi')"
      ]
     },
     "execution_count": 8,
     "metadata": {},
     "output_type": "execute_result"
    }
   ],
   "source": [
    "threshold = 0.1\n",
    "hobi_lain = persentase[persentase < threshold].index\n",
    "hobi_lain"
   ]
  },
  {
   "cell_type": "code",
   "execution_count": 9,
   "id": "db440371-7d19-493a-adad-8da87cd2a51a",
   "metadata": {
    "tags": []
   },
   "outputs": [
    {
     "data": {
      "text/plain": [
       "0     lainnya\n",
       "1     mancing\n",
       "2     lainnya\n",
       "3     mancing\n",
       "4     mancing\n",
       "5        baca\n",
       "6        baca\n",
       "7     mancing\n",
       "8     lainnya\n",
       "9     mancing\n",
       "10    lainnya\n",
       "Name: hobi, dtype: object"
      ]
     },
     "execution_count": 9,
     "metadata": {},
     "output_type": "execute_result"
    }
   ],
   "source": [
    "df['hobi'] = df['hobi'].replace(hobi_lain, 'lainnya')\n",
    "df['hobi']"
   ]
  },
  {
   "cell_type": "code",
   "execution_count": 10,
   "id": "74d484c0-d895-4c33-9d5d-8e7bdd764af7",
   "metadata": {
    "tags": []
   },
   "outputs": [
    {
     "data": {
      "text/plain": [
       "hobi\n",
       "mancing    0.454545\n",
       "lainnya    0.363636\n",
       "baca       0.181818\n",
       "Name: proportion, dtype: float64"
      ]
     },
     "execution_count": 10,
     "metadata": {},
     "output_type": "execute_result"
    }
   ],
   "source": [
    "df['hobi'].value_counts(normalize=True)"
   ]
  }
 ],
 "metadata": {
  "kernelspec": {
   "display_name": "Python 3 (ipykernel)",
   "language": "python",
   "name": "python3"
  },
  "language_info": {
   "codemirror_mode": {
    "name": "ipython",
    "version": 3
   },
   "file_extension": ".py",
   "mimetype": "text/x-python",
   "name": "python",
   "nbconvert_exporter": "python",
   "pygments_lexer": "ipython3",
   "version": "3.11.5"
  }
 },
 "nbformat": 4,
 "nbformat_minor": 5
}
